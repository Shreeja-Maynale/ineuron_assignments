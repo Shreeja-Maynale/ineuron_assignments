{
 "cells": [
  {
   "cell_type": "markdown",
   "metadata": {},
   "source": [
    "1) Write a Python program to print \"Hello Python\"?"
   ]
  },
  {
   "cell_type": "code",
   "execution_count": 1,
   "metadata": {},
   "outputs": [
    {
     "name": "stdout",
     "output_type": "stream",
     "text": [
      "Hello Python\n"
     ]
    }
   ],
   "source": [
    "print(\"Hello Python\")"
   ]
  },
  {
   "cell_type": "markdown",
   "metadata": {},
   "source": [
    "2) Write a Python program to do arithmetical operations addition and division.?"
   ]
  },
  {
   "cell_type": "code",
   "execution_count": 2,
   "metadata": {},
   "outputs": [
    {
     "name": "stdout",
     "output_type": "stream",
     "text": [
      "\n",
      " addition:  15.0 \n",
      " substraction:  5.0 \n",
      " multiplication:  50.0 \n",
      " division: 2.0\n"
     ]
    }
   ],
   "source": [
    "num_1 = float(input(\"Enter number_1: \"))\n",
    "num_2 = float(input(\"Enter number_2: \"))\n",
    "operators = ['+','-','*','/']\n",
    "\n",
    "for i in operators:\n",
    "    sum = num_1+num_2\n",
    "    sub = num_1-num_2\n",
    "    mul = num_1*num_2\n",
    "    div = num_1/num_2\n",
    "\n",
    "print('\\n',\"addition: \",sum,'\\n', \n",
    "     \"substraction: \",sub,'\\n', \n",
    "     \"multiplication: \",mul,'\\n', \n",
    "     \"division:\",div)"
   ]
  },
  {
   "cell_type": "markdown",
   "metadata": {},
   "source": [
    "3. Write a Python program to find the area of a triangle?"
   ]
  },
  {
   "cell_type": "code",
   "execution_count": 4,
   "metadata": {},
   "outputs": [
    {
     "name": "stdout",
     "output_type": "stream",
     "text": [
      "Area of Triangle:  10.0\n"
     ]
    }
   ],
   "source": [
    "#formula for area of triangle : 1/2*base*height\n",
    "\n",
    "base = float(input(\"Enter the base of triangle: \"))\n",
    "height = float(input(\"Enter the height of triangle: \"))\n",
    "area_triangle = (1/2*base*height)\n",
    "print(\"Area of Triangle: \",area_triangle)"
   ]
  },
  {
   "cell_type": "markdown",
   "metadata": {},
   "source": [
    "4. Write a Python program to swap two variables?"
   ]
  },
  {
   "cell_type": "code",
   "execution_count": 16,
   "metadata": {},
   "outputs": [
    {
     "name": "stdout",
     "output_type": "stream",
     "text": [
      "number 1st:  2\n",
      "number 2nd:  4\n",
      "After swapping the numbers:  4 2\n"
     ]
    }
   ],
   "source": [
    "def swapping(a,b): \n",
    "    temp = a\n",
    "    a = b\n",
    "    b = temp\n",
    "    return(a,b)\n",
    "a = input(\"enter 1st number: \")\n",
    "print(\"number 1st: \", a)\n",
    "b = input(\"enter 2nd number: \")\n",
    "print(\"number 2nd: \", b)\n",
    "a,b = swapping(a,b)\n",
    "print(\"After swapping the numbers: \", a,b)\n",
    "\n"
   ]
  },
  {
   "cell_type": "markdown",
   "metadata": {},
   "source": []
  },
  {
   "cell_type": "markdown",
   "metadata": {},
   "source": [
    "5. Write a Python program to generate a random number?"
   ]
  },
  {
   "cell_type": "code",
   "execution_count": 34,
   "metadata": {},
   "outputs": [
    {
     "name": "stdout",
     "output_type": "stream",
     "text": [
      "735\n"
     ]
    }
   ],
   "source": [
    "from random import randint\n",
    "def random_num():\n",
    "    print(randint(0,1000))\n",
    "random_num()"
   ]
  }
 ],
 "metadata": {
  "kernelspec": {
   "display_name": "Python 3.10.5 64-bit",
   "language": "python",
   "name": "python3"
  },
  "language_info": {
   "codemirror_mode": {
    "name": "ipython",
    "version": 3
   },
   "file_extension": ".py",
   "mimetype": "text/x-python",
   "name": "python",
   "nbconvert_exporter": "python",
   "pygments_lexer": "ipython3",
   "version": "3.10.5"
  },
  "orig_nbformat": 4,
  "vscode": {
   "interpreter": {
    "hash": "26de051ba29f2982a8de78e945f0abaf191376122a1563185a90213a26c5da77"
   }
  }
 },
 "nbformat": 4,
 "nbformat_minor": 2
}
