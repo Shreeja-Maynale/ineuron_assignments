{
 "cells": [
  {
   "cell_type": "markdown",
   "metadata": {},
   "source": [
    "1. Write a Python Program to Find LCM?"
   ]
  },
  {
   "cell_type": "code",
   "execution_count": 3,
   "metadata": {},
   "outputs": [
    {
     "data": {
      "text/plain": [
       "60"
      ]
     },
     "execution_count": 3,
     "metadata": {},
     "output_type": "execute_result"
    }
   ],
   "source": [
    "def lcm(a,b):\n",
    "    if a > b:\n",
    "        high = a\n",
    "    else:\n",
    "        high = b\n",
    "\n",
    "    while True:\n",
    "        if (high%a==0) and (high%b==0):\n",
    "            break\n",
    "        else:\n",
    "            high += 1 \n",
    "                    \n",
    "    return high\n",
    "lcm(a = 20, b = 3)"
   ]
  },
  {
   "cell_type": "markdown",
   "metadata": {},
   "source": [
    "2. Write a Python Program to Find HCF?"
   ]
  },
  {
   "cell_type": "code",
   "execution_count": 4,
   "metadata": {},
   "outputs": [
    {
     "data": {
      "text/plain": [
       "2"
      ]
     },
     "execution_count": 4,
     "metadata": {},
     "output_type": "execute_result"
    }
   ],
   "source": [
    "def hcf(a, b):\n",
    "    \n",
    "    low = a if a < b else b\n",
    "    \n",
    "    for i in range(1, low+1):\n",
    "        if (a%i==0) and (b%i==0):\n",
    "            hcf = i\n",
    "            \n",
    "    return hcf\n",
    "hcf(a=12, b=2)"
   ]
  },
  {
   "cell_type": "markdown",
   "metadata": {},
   "source": [
    "3. Write a Python Program to Convert Decimal to Binary, Octal and Hexadecimal?"
   ]
  },
  {
   "cell_type": "code",
   "execution_count": 6,
   "metadata": {},
   "outputs": [
    {
     "name": "stdout",
     "output_type": "stream",
     "text": [
      "Binary:  0b1000\n",
      "Octal:  0o10\n",
      "Hexadecimal:  0x8\n"
     ]
    }
   ],
   "source": [
    "def conversion(num):\n",
    "    print(\"Binary: \", bin(num))\n",
    "    print(\"Octal: \", oct(num))\n",
    "    print(\"Hexadecimal: \", hex(num))\n",
    "conversion(8)"
   ]
  },
  {
   "cell_type": "markdown",
   "metadata": {},
   "source": [
    "4. Write a Python Program To Find ASCII value of a character?"
   ]
  },
  {
   "cell_type": "code",
   "execution_count": 7,
   "metadata": {},
   "outputs": [
    {
     "name": "stdout",
     "output_type": "stream",
     "text": [
      "ASCII value of b is 98\n"
     ]
    }
   ],
   "source": [
    "try:\n",
    "    char = input(\"Enter a character: \")\n",
    "    ascii_value = ord(char)\n",
    "    print(\"ASCII value of {} is {}\".format(char, ascii_value))\n",
    "except Exception as error:\n",
    "    print(error)"
   ]
  },
  {
   "cell_type": "markdown",
   "metadata": {},
   "source": [
    "5. Write a Python Program to Make a Simple Calculator with 4 basic mathematical operations?"
   ]
  },
  {
   "cell_type": "code",
   "execution_count": 11,
   "metadata": {},
   "outputs": [
    {
     "name": "stdout",
     "output_type": "stream",
     "text": [
      "10/2 = 5.0\n"
     ]
    }
   ],
   "source": [
    "def calculator():\n",
    "    operator = ['+','-','/','*']\n",
    "    num_1 = int(input(\"Enter the 1st number: \"))\n",
    "    op = input(\"Enter the operation: \")\n",
    "    num_2 = int(input(\"Enter the 1st number: \"))\n",
    "    \n",
    "    if op in operator:\n",
    "        if op == \"+\":\n",
    "            math = (num_1+num_2)\n",
    "            print(f\"{num_1}{op}{num_2} = {math}\")\n",
    "        elif op == \"-\":\n",
    "            math = (num_1-num_2)\n",
    "            print(f\"{num_1}{op}{num_2} = {math}\")\n",
    "        elif op == \"*\":\n",
    "            math = (num_1*num_2)\n",
    "            print(f\"{num_1}{op}{num_2} = {math}\")\n",
    "        else :\n",
    "            math = (num_1/num_2)\n",
    "            print(f\"{num_1}{op}{num_2} = {math}\")\n",
    "    else:\n",
    "        print(\"Please Enter valid operation !\")\n",
    "\n",
    "calculator()"
   ]
  }
 ],
 "metadata": {
  "kernelspec": {
   "display_name": "Python 3.10.5 64-bit",
   "language": "python",
   "name": "python3"
  },
  "language_info": {
   "codemirror_mode": {
    "name": "ipython",
    "version": 3
   },
   "file_extension": ".py",
   "mimetype": "text/x-python",
   "name": "python",
   "nbconvert_exporter": "python",
   "pygments_lexer": "ipython3",
   "version": "3.10.5"
  },
  "orig_nbformat": 4,
  "vscode": {
   "interpreter": {
    "hash": "26de051ba29f2982a8de78e945f0abaf191376122a1563185a90213a26c5da77"
   }
  }
 },
 "nbformat": 4,
 "nbformat_minor": 2
}
