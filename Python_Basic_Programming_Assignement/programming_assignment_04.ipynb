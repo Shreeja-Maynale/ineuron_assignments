{
 "cells": [
  {
   "cell_type": "markdown",
   "metadata": {},
   "source": [
    "1. Write a Python Program to Find the Factorial of a Number?"
   ]
  },
  {
   "cell_type": "code",
   "execution_count": 7,
   "metadata": {},
   "outputs": [
    {
     "name": "stdout",
     "output_type": "stream",
     "text": [
      "Enter number:  4\n",
      "factorial of 4 is :  24\n"
     ]
    }
   ],
   "source": [
    "def factorial():\n",
    "    num = int(input(\"Enter the num: \"))\n",
    "    print(\"Enter number: \", num)\n",
    "    fact = 1\n",
    "    for i in range(num, 0, -1):\n",
    "        fact*=i\n",
    "    print(f\"factorial of {num} is : \",fact)\n",
    "factorial()"
   ]
  },
  {
   "cell_type": "markdown",
   "metadata": {},
   "source": [
    "2. Write a Python Program to Display the multiplication Table?"
   ]
  },
  {
   "cell_type": "code",
   "execution_count": 10,
   "metadata": {},
   "outputs": [
    {
     "name": "stdout",
     "output_type": "stream",
     "text": [
      "2 * 1 = 2\n",
      "2 * 2 = 4\n",
      "2 * 3 = 6\n",
      "2 * 4 = 8\n",
      "2 * 5 = 10\n",
      "2 * 6 = 12\n",
      "2 * 7 = 14\n",
      "2 * 8 = 16\n",
      "2 * 9 = 18\n",
      "2 * 10 = 20\n"
     ]
    }
   ],
   "source": [
    "def mul():\n",
    "    num = int(input(\"Enter the number: \"))\n",
    "    for i in range(1,10+1):\n",
    "        table = num*i\n",
    "        print(f\"{num} * {i} = {table}\")\n",
    "mul()"
   ]
  },
  {
   "cell_type": "markdown",
   "metadata": {},
   "source": [
    "3. Write a Python Program to Print the Fibonacci sequence?"
   ]
  },
  {
   "cell_type": "code",
   "execution_count": 14,
   "metadata": {},
   "outputs": [
    {
     "name": "stdout",
     "output_type": "stream",
     "text": [
      "8\n"
     ]
    }
   ],
   "source": [
    "def fibo(num):\n",
    "    if num < 0:\n",
    "        print(\"Incorrect input\")\n",
    " \n",
    "    elif num == 0:\n",
    "        return 0\n",
    "\n",
    "    elif num == 1 or num == 2:\n",
    "        return 1\n",
    " \n",
    "    else:\n",
    "        return fibo(num-1) + fibo(num-2)\n",
    "print(fibo(6))"
   ]
  },
  {
   "cell_type": "markdown",
   "metadata": {},
   "source": [
    "4. Write a Python Program to Check Armstrong Number?"
   ]
  },
  {
   "cell_type": "code",
   "execution_count": 23,
   "metadata": {},
   "outputs": [
    {
     "name": "stdout",
     "output_type": "stream",
     "text": [
      "enter the num: 153\n",
      "number is armstrong!\n"
     ]
    }
   ],
   "source": [
    "def armstrong():\n",
    "    num = int(input(\"Enter the number: \"))\n",
    "    print(\"enter the num:\", num)\n",
    "    temp = num\n",
    "    sum = 0\n",
    "    while temp>0:\n",
    "        digit = temp%10\n",
    "        sum+= digit**3\n",
    "        temp //= 10\n",
    "    if num == sum:\n",
    "        print(\"number is armstrong!\")\n",
    "    else:\n",
    "        print(\"number is not armstrong!\")\n",
    "armstrong()"
   ]
  },
  {
   "cell_type": "markdown",
   "metadata": {},
   "source": [
    "5. Write a Python Program to Find Armstrong Number in an Interval?"
   ]
  },
  {
   "cell_type": "code",
   "execution_count": 31,
   "metadata": {},
   "outputs": [
    {
     "name": "stdout",
     "output_type": "stream",
     "text": [
      "1 153 370 371 407 "
     ]
    }
   ],
   "source": [
    "def armstrong():\n",
    "    for num in range(1, 1000):\n",
    "        temp = num\n",
    "        sum = 0\n",
    "        while temp>0:\n",
    "            digit = temp%10\n",
    "            sum+= digit**3\n",
    "            temp //= 10\n",
    "        if num == sum:\n",
    "            print(num, end=' ')\n",
    "        else:\n",
    "            pass\n",
    "armstrong()\n"
   ]
  },
  {
   "cell_type": "markdown",
   "metadata": {},
   "source": [
    "6. Write a Python Program to Find the Sum of Natural Numbers?"
   ]
  },
  {
   "cell_type": "code",
   "execution_count": 35,
   "metadata": {},
   "outputs": [
    {
     "name": "stdout",
     "output_type": "stream",
     "text": [
      "sum of 10 natural number is:  55\n"
     ]
    }
   ],
   "source": [
    "def naturan_num():\n",
    "    num = int(input(\"Enter the num: \"))\n",
    "    sum = 0\n",
    "    for i in range(1, num+1):\n",
    "        sum = sum+i\n",
    "    print(f\"sum of {num} natural number is: \", sum)\n",
    "naturan_num()"
   ]
  }
 ],
 "metadata": {
  "kernelspec": {
   "display_name": "Python 3.10.5 64-bit",
   "language": "python",
   "name": "python3"
  },
  "language_info": {
   "codemirror_mode": {
    "name": "ipython",
    "version": 3
   },
   "file_extension": ".py",
   "mimetype": "text/x-python",
   "name": "python",
   "nbconvert_exporter": "python",
   "pygments_lexer": "ipython3",
   "version": "3.10.5"
  },
  "orig_nbformat": 4,
  "vscode": {
   "interpreter": {
    "hash": "26de051ba29f2982a8de78e945f0abaf191376122a1563185a90213a26c5da77"
   }
  }
 },
 "nbformat": 4,
 "nbformat_minor": 2
}
