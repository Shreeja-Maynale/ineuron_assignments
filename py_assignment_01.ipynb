
1) In the below elements which of them are values or an expression? eg:- values can be integer or string and expressions will be mathematical operators.
* 
'hello'
-87.8
- 
/ 
+	
6 


ans - 
value - 'hello' , -87.8, 6
expression - * , -, /, +



2) What is the difference between string and variable?
ans - 
string - string is a type of information, you can represent it in single, double or triple quote.
variable - we can store the information in variable , any data type we can store in variable.



3) Describe three different data types.
ans - 
types of data types : 
string data type 
list, tuple, set
numeric data type - int, float, complex
binary data types
boolean 

i) int : 
in int data type we can store integer numbers. integer numbers means the numbers without decimal.
we can store very large value in int, there is no limit for the value storage 
ex - 
a = 10
print(type(a))

b = 22222222222222
print(type(b))

ii) byte and bytearry data types :
byte - 
byte data type represent group of numbers like array. and it is immutable.
ex -
a = [10,20,30,40,50]
b = bytes(a)
print(b)

bytearray - 
bytearray is same as byte, but it is mutable.
ex - 
a = [10,20,30,40,50]
b = bytearray(a)
print(b)

iii) list, tuple and set
list :
list is a group of data , which is represented in [], we can store different type of data in list.
list is mutable we can modify the list
ex -
a = [10,20,30,40,50]
print(type(a))

tuple :
tuple is a group of data , which is represented in (), we can store different type of data in tuple.
tuple is immutable we cannot modify the tuple
ex -
a = (10,20,30,40,50)
print(type(a))

set :
set is a group of data , which is represented in {}, we can store different or same type of data in set.
set is immutable we cannot modify the tuple, it is unordered and duplicate values are not allowed in set.
ex -
a = {"one","two","three"}
print(type(a))



4)What is an expression made up of? What do all expressions do?
ans - 
expressions are made up of variables, operators and constants.
expression may consist of one or more operands and operators to produce value

expressions type - 

i)constant expresion -
constant expression contains only constant values, these value will not change.
ex -
5-4/2 , 8, 'x'

ii) integral expression - 
integral expressions return the integer value after implimentation of expression.
ex - 
x * y  ,  x + int( 5.0)

iii) floating expressions - 
floating expressions return the floating value after implimentation of expression.
ex - 
x + y, 10.75

iv) relational expression - 
relational expression returns the value in type of boolean (true or false).
arithmatic expression are used on either side of relational operator,
first evaluation of either side expression and then compare them.
ex -
x > y,  x*2 > y

v)logical expression - 
logical expression is combination of two or more relational expression,
returns bool type result
ex - 
x == 10 || y == 5 ,  

vi) bitwise expression - 
bitwise expression use to shift the data on bit level
ex - 
y << 2  - shift the y value on left side by 2 bit 
x >> 1  - shift the x value on right side by 1 bit



5) This assignment statements, like spam = 10. What is the difference between an expression and a statement?
ans - 
expression - 
expressions are made up of variables, operators and constants.
expression may consist of one or more operands and operators to produce value

statements - 
A statement is a unit of code that has an effect, like creating a variable.

ex - spam = 10 
here 10 is an expression and spam = 10 is a statement 



6) After running the following code, what does the variable bacon contain?
bacon = 22
bacon + 1

ans - 
i)  bacon = 22
    bacon + 1

    print(bacon)
    sol - 22

ii) bacon = 22
    print(bacon + 1)

    sol - 23 



7) What should the values of the following two terms be?
'spam' + 'spamspam'
'spam' * 3

ans - 

i) a = 'spam' + 'spamspam'
   print(a)
sol -  spamspamspam

ii) b = spam * 3
    print(b)
sol - spamspamspam



8) Why is eggs a valid variable name while 100 is invalid?
ans - 
100 is invalid variable because variable cannot e start with numbers so eggs can be varibale but 100 is not.



9) What three functions can be used to get the integer, floating-point number, or string version of a value?
ans - 
int() - to get integer value 
float() - to get floating point number 
str() - to get string value 



10) Why does this expression cause an error? How can you fix it?
'I have eaten ' + 99 + ' burritos.'

ans - 
in the given example we have used 99 as int data type , 
as we can't merge int and string togather in string format, 
we have to convert int 99 to string 99.
so,

a = 'I have eaten ' + '99' + ' burritos.'
print(a)

soln - I have eaten 99 burritos.

    



       




