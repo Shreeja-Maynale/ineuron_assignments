"PYTHON BASIC ASSIGNMENT : 2"

1) What are the two values of the Boolean data type? How do you write them?
ans - 
TRUE and FALSE are the two value of boolean data type,
eg -

true == 1
false == 0
a = true + false/true 
print(a)

sol - 1.0


2) What are the three different types of Boolean operators?
ans - 
three boolean operators :
i) AND  ii) OR  iii) NOT 



3) Make a list of each Boolean operator's truth tables
(i.e. every possible combination of Boolean values for the operator and what it evaluate ).
ans - 

i) truth table for AND
a b output 
0 0 0
0 1 0
1 0 0
1 1 1

ii) truth table for OR
a b output 
0 0 0
0 1 1
1 0 1
1 1 1

iii) truth table for NOT
a output 
0 1
1 0 


4) What are the values of the following expressions?
ans - 
(5 > 4) and (3 == 5) : false
not (5 > 4) : false
(5 > 4) or (3 == 5) : true 
not ((5 > 4) or (3 == 5)) : false
(True and True) and (True == False) : false
(not False) or (not True) : true


5) What are the six comparison operators?
ans - 
== : equal to equal
!= : not equal to 
> : greater than
< : less than 
>= : greater than an equal to
<= : less than and equal to 


6) How do you tell the difference between the equal to and assignment operators?
Describe a condition and when you would use one.
ans - 

'=' equal to operator is use to assign the value for variable
'==' equal to equal to is use to compare two values

ex :

i) x = 5
value of x is 5

ii) x = 2
    y = 2
    if x==y:
        print('true')
    else:
        print('false')

value of x and y is comparing by == operator 



7) Identify the three blocks in this code:
ans -

spam = 0
if spam == 10:
    print('eggs') #block 1 
if spam > 5:
    print('bacon') #block 2
else:
    print('ham')   #block 3
    print('spam')
    print('spam')



8) Write code that prints Hello if 1 is stored in spam, 
prints Howdy if 2 is stored in spam, and prints Greetings! if anything else is stored in spam.

ans-

spam = int(input("enter the number: "))
if spam == 1 :
    print('Hello')
elif spam == 2 :
    print('Howdy')
else:
    print('Greetings!')



9) If your programme is stuck in an endless loop, what keys you’ll press?
ans - 
If my programme is stuck in an endless loop, i'll press ctrl+c (control + c)



10) How can you tell the difference between break and continue?
ans - 
break :
break statement will terminate the entire loop immidiately 
ex - 
for i in range(5):
    if i == 4:
        break 
    print(i)

sol:
0 
1
2
3


continue :
continue statement will skip the current iteration of loop and continue from next iteration of loop.
ex - 
for i in range(5):
    if i == 4:
        continue
    print(i)

sol : 
0
1
2
3
5


11) In a for loop, what is the difference between range(10), range(0, 10), and range(0, 10, 1)?
ans - 
i) range(10)
it means it will count from first 10 numbers starting form zero
sol:

0
1
2
3
4
5
6
7
8
9

ii) range(0, 10)
it means it will print start from 0 and stop on 9.
bcz 0 to 9 count is 10.
sol:

0
1
2
3
4
5
6
7
8
9

iii) range(0, 10, 1)
ans:
it means it will count from 0 to 9, with step 1
format (start, stop, step)
sol- 

0
1
2
3
4
5
6
7
8
9


12) Write a short program that prints the numbers 1 to 10 using a for loop. 
Then write an equivalent program that prints the numbers 1 to 10 using a while loop.
ans - 

i) prints the numbers 1 to 10 using a for loop.

sol :
for i in range(1,10+1)
    print(i)


ii) prints the numbers 1 to 10 using a while loop.

sol:
i = 1
while (i<=10):
    print(i)
    i += 1


    
13) if you had a function named bacon() inside a module named spam, 
how would you call it after importing spam?
ans -   

function will be called like spam.becon() 








