{
 "cells": [
  {
   "cell_type": "markdown",
   "metadata": {},
   "source": [
    "1. How do you distinguish between shutil.copy() and shutil.copytree()?\n",
    "\n",
    "Ans: shutil.copy() method is used to copy the contents of a file from one file to another file/folder, it primary takes two arguments src,dest, src represents the file to be copied where as destination refers to the file/folder to where the src data should be copied, if dest is a folder name the src with exact name will be copied to the dest folder, if its a file then the contents of src will be copied to dest where dest retains it name.\n",
    "\n",
    "shutil.copytree() function is used to copy the entire contents of a folder to other folder. it also takes two arguments src & dest, it copies all the content recursively and stores it in dest. the important catch here is dest must not exist prior to this and it will be created during the copy operation. Permissions and times of directories are copied with shutil.copystat() and individual files are copied using shutil.copy2() by default which can be modified using copy_function attribute."
   ]
  },
  {
   "cell_type": "markdown",
   "metadata": {},
   "source": [
    "2. What function is used to rename files??\n",
    "\n",
    "Ans: 'os.rename()' function is used to rename files or directories using a python program, this function takes two arguments src and dest.\n",
    "src : file name which want to rename\n",
    "dest: new name for the src file/directory"
   ]
  },
  {
   "cell_type": "markdown",
   "metadata": {},
   "source": [
    "3. What is the difference between the delete functions in the send2trash and shutil modules?\n",
    "\n",
    "Ans: \n",
    "Shutil module provides a funciton called as 'shutil.rmtree()' which deletes a directory and all its contents. The other functions with similar functionality are 'os.remove()' removes a file, 'os.rmdir()' removes a empty directory. The problem with these functions is once a file is deleted, it will be lost permanently, if a file is deleted we can not recover the deleted file\n",
    "\n",
    "Where as 'send2trash' module provides a function called 'send2trash.send2trash()' to delete a file/directory. these methods moves the files/directories to trash folder instead of permanently deleting them. hence if a file/folder is deleted accidentally it can be still recovered from trash folder, for this we needs to be installed explicitly using the command 'pip install send2trash'"
   ]
  },
  {
   "cell_type": "markdown",
   "metadata": {},
   "source": [
    "4. ZipFile objects have a close() method just like File objects’ close() method. What ZipFile method is equivalent to File objects’ open() method?\n",
    "\n",
    "Ans: The zipfile. ZipFile() function is equivalent to the open() function; the first argument is the filename, and the second argument is the mode to open the ZIP file in (read, write, or append)."
   ]
  },
  {
   "cell_type": "markdown",
   "metadata": {},
   "source": [
    "5. Create a programme that searches a folder tree for files with a certain file extension (such as .pdf or .jpg). Copy these files from whatever location they are in to a new folder.\n",
    "\n",
    "Ans: \n",
    "Folder Name: C:\\Users\\shreeja.maynale\\Desktop\\practice_file\\practice_file\\daily_questions\\shree_source\n",
    "Sub_Folders: []\n",
    "Files: ['abc.jpg', 'qqq.ipynb', 'xyz.pdf']\n"
   ]
  },
  {
   "cell_type": "code",
   "execution_count": null,
   "metadata": {},
   "outputs": [],
   "source": [
    "import os\n",
    "import shutil\n",
    "\n",
    "def search_and_copy(source,destination,exten):\n",
    "    source = os.path.abspath(source)\n",
    "    destination = os.path.abspath(destination)\n",
    "    for foldername, subfolder, filenames in os.walk(source):\n",
    "        print(f'Folder Name: {foldername}')\n",
    "        print(f'Sub_Folders: {subfolder}')\n",
    "        print(f'Files: {filenames}')\n",
    "        for filename in filenames:\n",
    "            fileName,extens = os.path.splitext(filename)\n",
    "            if exten in extens:\n",
    "                move_file = foldername+os.path.sep+fileName+exten\n",
    "                shutil.copy(move_file, destination)\n",
    "        print(f'Files copied successfully from {source} to {destination}')\n",
    "    \n",
    "exten = ['.pdf','.jpg','.ipynb']\n",
    "source = 'shree_source'\n",
    "destination = 'shree_destination'\n",
    "search_and_copy(source, destination, exten)"
   ]
  }
 ],
 "metadata": {
  "language_info": {
   "name": "python"
  },
  "orig_nbformat": 4
 },
 "nbformat": 4,
 "nbformat_minor": 2
}
