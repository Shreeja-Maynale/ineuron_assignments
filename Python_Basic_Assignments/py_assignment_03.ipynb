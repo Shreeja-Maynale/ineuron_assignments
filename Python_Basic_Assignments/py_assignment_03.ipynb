{
 "cells": [
  {
   "cell_type": "code",
   "execution_count": null,
   "metadata": {},
   "outputs": [],
   "source": [
    "1) Why are functions advantageous to have in your programs?\n",
    "ans -\n",
    "because function use to reduce the code, as we can call the functions in code.\n",
    "we can write separate task in each function block and can call it anywhere in the code."
   ]
  },
  {
   "cell_type": "code",
   "execution_count": null,
   "metadata": {},
   "outputs": [],
   "source": [
    "2) When does the code in a function run: when it's specified or when it's called?\n",
    "ans - \n",
    "when you call the function in code it will run the perticular function."
   ]
  },
  {
   "cell_type": "code",
   "execution_count": null,
   "metadata": {},
   "outputs": [],
   "source": [
    "3) What statement creates a function?\n",
    "ans - \n",
    "def statement creates a function.  (def function():)\n"
   ]
  },
  {
   "cell_type": "code",
   "execution_count": null,
   "metadata": {},
   "outputs": [],
   "source": [
    "4) What is the difference between a function and a function call?\n",
    "ans - \n",
    "function - function is a code for different different task with return value in it.\n",
    "function call - by calling the fuction we can run the code inside called function, anywhere in the code."
   ]
  },
  {
   "cell_type": "code",
   "execution_count": null,
   "metadata": {},
   "outputs": [],
   "source": [
    "5) How many global scopes are there in a Python program? How many local scopes?\n",
    "ans - \n",
    "there is one global scope and local scope is whenever we called function.\n"
   ]
  },
  {
   "cell_type": "code",
   "execution_count": null,
   "metadata": {},
   "outputs": [],
   "source": [
    "6) What happens to variables in a local scope when the function call returns?\n",
    "ans - \n",
    "local scope is like one time. when you call function and it return something, local variable get vanished the value inside it. "
   ]
  },
  {
   "cell_type": "code",
   "execution_count": null,
   "metadata": {},
   "outputs": [],
   "source": [
    "7) What is the concept of a return value? Is it possible to have a return value in an expression?\n",
    "ans - \n",
    "return value means when we call the function we can get the evaluated values from the function.\n",
    "yes we can utilize the rreturn value in an expression \n"
   ]
  },
  {
   "cell_type": "code",
   "execution_count": null,
   "metadata": {},
   "outputs": [],
   "source": [
    "8) If a function does not have a return statement, what is the return value of a call to that function?\n",
    "ans - \n",
    "If a function does not have a return statement, it will return None (null value)\n"
   ]
  },
  {
   "cell_type": "code",
   "execution_count": null,
   "metadata": {},
   "outputs": [],
   "source": [
    "9) How do you make a function variable refer to the global variable?\n",
    "ans - \n",
    "to decare the variable in function as global variable , you have to use global keyword."
   ]
  },
  {
   "cell_type": "code",
   "execution_count": null,
   "metadata": {},
   "outputs": [],
   "source": [
    "10) What is the data type of None?\n",
    "ans - \n",
    "data type of None is NoneType\n"
   ]
  },
  {
   "cell_type": "code",
   "execution_count": null,
   "metadata": {},
   "outputs": [],
   "source": [
    "11) What does the sentence import areallyourpetsnamederic do?\n",
    "ans -\n",
    "to import any module we use import statement,\n",
    " here using import areallyourpetsnamederic we are importing areallyourpetsnamederic module.\n"
   ]
  },
  {
   "cell_type": "code",
   "execution_count": null,
   "metadata": {},
   "outputs": [],
   "source": [
    "12) If you had a bacon() feature in a spam module, what would you call it after importing spam?\n",
    "ans - \n",
    "after importing spam , we have to call like \" spam.bacon() \""
   ]
  },
  {
   "cell_type": "code",
   "execution_count": null,
   "metadata": {},
   "outputs": [],
   "source": [
    "13) What can you do to save a programme from crashing if it encounters an error?\n",
    "ans - \n",
    "here we can use try and except block to save programme from crashing if it encouters an error"
   ]
  },
  {
   "cell_type": "code",
   "execution_count": null,
   "metadata": {},
   "outputs": [],
   "source": [
    "14) What is the purpose of the try clause? What is the purpose of the except clause?\n",
    "ans - \n",
    "if any statement may clause the error it will be in try statement \n",
    "and for handeling that error we will use except block."
   ]
  }
 ],
 "metadata": {
  "kernelspec": {
   "display_name": "Python 3.10.5 64-bit",
   "language": "python",
   "name": "python3"
  },
  "language_info": {
   "codemirror_mode": {
    "name": "ipython",
    "version": 3
   },
   "file_extension": ".py",
   "mimetype": "text/x-python",
   "name": "python",
   "nbconvert_exporter": "python",
   "pygments_lexer": "ipython3",
   "version": "3.10.5"
  },
  "orig_nbformat": 4,
  "vscode": {
   "interpreter": {
    "hash": "26de051ba29f2982a8de78e945f0abaf191376122a1563185a90213a26c5da77"
   }
  }
 },
 "nbformat": 4,
 "nbformat_minor": 2
}
